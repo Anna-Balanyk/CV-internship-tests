{
  "nbformat": 4,
  "nbformat_minor": 0,
  "metadata": {
    "colab": {
      "name": "Task1.ipynb",
      "provenance": []
    },
    "kernelspec": {
      "name": "python3",
      "display_name": "Python 3"
    }
  },
  "cells": [
    {
      "cell_type": "code",
      "metadata": {
        "id": "y2oh0vF4vXxy"
      },
      "source": [
        "import numpy as np\r\n",
        "from skimage import io, color\r\n",
        "import matplotlib.pyplot as plt\r\n",
        "\r\n",
        "#loading pictures from computer via matplotlib.pyplot \r\n",
        "\r\n",
        "#pic1= plt.imread('img_1.png')\r\n",
        "#pic2 = plt.imread('img_2.png')\r\n",
        "#making input images to grayscale \"just in case\" they aren't\r\n",
        "#X = color.rgb2gray(pic1)\r\n",
        "#H = color.rgb2gray(pic2)\r\n",
        "\r\n",
        "def cross_corr(X,H):\r\n",
        "  \r\n",
        "  #creating zero-matrices: Xt - for input X and C - for output\r\n",
        "  M,N = X.shape\r\n",
        "  P,Q = H.shape\r\n",
        "  Xt = np.zeros((M+2*(P-1), N+2*(Q-1)))\r\n",
        "  C = np.zeros(((M+P-1),(N+Q-1)))\r\n",
        "  \r\n",
        "  #correlation function using loops.\r\n",
        "\r\n",
        "  for n in range(N):\r\n",
        "    for m in range(M):\r\n",
        "      Xt[m+P-1][n+Q-1]= X[m][n]\r\n",
        "  \r\n",
        "  for k in range((M+P-1)):\r\n",
        "    for l in range((N+Q-1)):\r\n",
        "      Hkl = np.zeros(((M+2*(P-1)), (N+2*(Q-1))))\r\n",
        "      for p in range(P):\r\n",
        "        for q in range(Q):\r\n",
        "    \r\n",
        "          Hkl[p+k][q+l]= H[p][q]\r\n",
        "          C[k][l] = sum(sum(np.multiply(Xt,Hkl)))\r\n",
        "  #uncomment this code if you want to see the image here      \r\n",
        "  #return plt.imshow(C, cmap='gray')\r\n",
        "  return plt.imsave('cross_corr.png', C, cmap='gray')\r\n",
        "\r\n",
        "\r\n",
        "#trying the functionon two simple2D matrices\r\n",
        "X = np.random.randn(7,80)\r\n",
        "H = np.random.randn(6,43)\r\n",
        "cross_corr(X,H)\r\n",
        "\r\n",
        "#let's check if it the same for scipy function:\r\n",
        "#from scipy import signal\r\n",
        "#plt.imshow(scipy.signal.correlate2d(X,H), cmap='gray')"
      ],
      "execution_count": 1,
      "outputs": []
    }
  ]
}