{
  "nbformat": 4,
  "nbformat_minor": 0,
  "metadata": {
    "colab": {
      "name": "Task_2.ipynb",
      "provenance": []
    },
    "kernelspec": {
      "name": "python3",
      "display_name": "Python 3"
    }
  },
  "cells": [
    {
      "cell_type": "code",
      "metadata": {
        "colab": {
          "base_uri": "https://localhost:8080/"
        },
        "id": "g3SsCkF7aDFr",
        "outputId": "a9f3d786-c981-4b0d-f0c1-63d9db08a0b9"
      },
      "source": [
        "import numpy as np\r\n",
        "import pandas as pd\r\n",
        "import os\r\n",
        "import cv2 as cv\r\n",
        "import matplotlib.pyplot as plt\r\n",
        "import skimage.feature\r\n",
        "%matplotlib inline\r\n",
        "from google.colab import drive\r\n",
        "drive.mount('/content/gdrive')"
      ],
      "execution_count": 1,
      "outputs": [
        {
          "output_type": "stream",
          "text": [
            "Mounted at /content/gdrive\n"
          ],
          "name": "stdout"
        }
      ]
    },
    {
      "cell_type": "code",
      "metadata": {
        "id": "ABtdk2cubLjN"
      },
      "source": [
        "def find_blobs(folder):\r\n",
        "  titles = {}\r\n",
        "  coordinates= {}\r\n",
        "  total = []\r\n",
        "  \r\n",
        "  for filename in os.listdir(folder):\r\n",
        "    #reading the images in grayscale\r\n",
        "    img = cv.imread(os.path.join(folder,filename))\r\n",
        "    imgray = cv.cvtColor(img, cv.COLOR_BGR2GRAY)\r\n",
        "\r\n",
        "    #finding the contours of rectangle boxes\r\n",
        "    ret, thresh = cv.threshold(imgray, 127, 255, 0)\r\n",
        "    contours, hierarchy = cv.findContours(thresh, cv.RETR_TREE, cv.CHAIN_APPROX_SIMPLE)\r\n",
        "    cnt = contours[1]\r\n",
        "    \r\n",
        "    #making copies of images for putting bounding boxes on them \r\n",
        "    result = img.copy()\r\n",
        "    \r\n",
        "    #getting coordinates of rectangle boxes\r\n",
        "    x,y,w,h = cv.boundingRect(cnt)\r\n",
        "    cv.rectangle(result, (x, y), (x+w, y+h), (0, 0, 255), 1)\r\n",
        "    xmin, xmax, ymin, ymax = x,(x+w),y, (y+h)\r\n",
        "    cors = [xmin, xmax, ymin, ymax] \r\n",
        "    \r\n",
        "    #preparing the output\r\n",
        "    listToStr = ', '.join([str(elem) for elem in cors]) \r\n",
        "    res = cv.imwrite(filename+'_result.png',result) \r\n",
        "    titles['file: '+ filename]= 'coors: ['+ listToStr +']'\r\n",
        "    \r\n",
        "  total.append(titles)\r\n",
        "    \r\n",
        "  return total, res"
      ],
      "execution_count": 4,
      "outputs": []
    },
    {
      "cell_type": "code",
      "metadata": {
        "colab": {
          "base_uri": "https://localhost:8080/"
        },
        "id": "o5p3dN2NbUMN",
        "outputId": "7c44751e-5ffb-42d7-98ac-0813b48a3d75"
      },
      "source": [
        "folder='gdrive/My Drive/Blobs' \r\n",
        "\r\n",
        "find_blobs(folder)"
      ],
      "execution_count": 5,
      "outputs": [
        {
          "output_type": "execute_result",
          "data": {
            "text/plain": [
              "([{'file: SR1.png': 'coors: [8, 112, 19, 75]',\n",
              "   'file: SR11.png': 'coors: [10, 130, 6, 30]',\n",
              "   'file: SR12.png': 'coors: [9, 112, 15, 67]',\n",
              "   'file: SR14.png': 'coors: [11, 130, 6, 33]',\n",
              "   'file: SR19.png': 'coors: [8, 113, 6, 34]',\n",
              "   'file: SR22.png': 'coors: [8, 109, 16, 64]',\n",
              "   'file: SR23.png': 'coors: [11, 131, 5, 31]',\n",
              "   'file: SR26.png': 'coors: [10, 129, 5, 31]',\n",
              "   'file: SR28.png': 'coors: [11, 136, 6, 36]',\n",
              "   'file: SR31.png': 'coors: [8, 102, 14, 66]',\n",
              "   'file: SR39.png': 'coors: [8, 94, 12, 53]',\n",
              "   'file: SR46.png': 'coors: [8, 96, 8, 37]',\n",
              "   'file: SR52.png': 'coors: [8, 102, 10, 47]',\n",
              "   'file: SR57.png': 'coors: [9, 109, 13, 47]',\n",
              "   'file: SR61.png': 'coors: [9, 112, 10, 47]',\n",
              "   'file: SR64.png': 'coors: [9, 108, 9, 44]',\n",
              "   'file: SR66.png': 'coors: [8, 107, 14, 64]',\n",
              "   'file: SR8.png': 'coors: [9, 119, 6, 31]'}],\n",
              " True)"
            ]
          },
          "metadata": {
            "tags": []
          },
          "execution_count": 5
        }
      ]
    }
  ]
}